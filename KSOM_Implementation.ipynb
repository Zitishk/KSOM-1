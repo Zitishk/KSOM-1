{
 "cells": [
  {
   "cell_type": "markdown",
   "metadata": {
    "id": "CcAUTMefuZhH"
   },
   "source": []
  },
  {
   "cell_type": "code",
   "execution_count": 1,
   "metadata": {
    "colab": {
     "base_uri": "https://localhost:8080/"
    },
    "id": "mI_4UH4Ma8P2",
    "outputId": "2a1e8dba-0a80-4adc-d965-d74075b4ffb1"
   },
   "outputs": [
    {
     "name": "stdout",
     "output_type": "stream",
     "text": [
      "WARNING:tensorflow:From /usr/local/lib/python3.7/dist-packages/tensorflow/python/compat/v2_compat.py:96: disable_resource_variables (from tensorflow.python.ops.variable_scope) is deprecated and will be removed in a future version.\n",
      "Instructions for updating:\n",
      "non-resource variables are not supported in the long term\n"
     ]
    }
   ],
   "source": [
    "import sys\n",
    "import os\n",
    "import tensorflow.compat.v1 as tf\n",
    "tf.disable_v2_behavior()\n",
    "import numpy as np\n",
    "import requests, math, io, sys, cv2\n",
    "import pandas as pd\n",
    "import matplotlib.pyplot as plt\n",
    "from mpl_toolkits.mplot3d import Axes3D\n",
    "from PIL import Image\n",
    "import random\n",
    "from sklearn.utils import shuffle\n",
    "from sklearn.cluster import KMeans"
   ]
  },
  {
   "cell_type": "code",
   "execution_count": 2,
   "metadata": {
    "id": "mw-dPvlWa9Rn"
   },
   "outputs": [],
   "source": [
    "#Creating a class to define SOM\n",
    "\n",
    "class SOM(object):\n",
    "    \n",
    "    #To check if the SOM has been trained\n",
    "    \n",
    "    _trained = False\n",
    "\n",
    "    def __init__(self, m, n, dim, n_iterations=10, alpha=None, sigma=None):\n",
    "    \n",
    "        \"\"\"\n",
    " \n",
    "        m X n : SOM dimensions\n",
    "        n_iterations : number of iterations \n",
    "        dim : dimensionality of the training inputs\n",
    "        alpha : learning rate (0.4 by deafault)\n",
    "        sigma : initial neighbourhood value\n",
    "        \n",
    "        \"\"\"\n",
    " \n",
    "        #Assign required variables first\n",
    "        self._m = m\n",
    "        self._n = n\n",
    "        if alpha is None:\n",
    "            alpha = 0.4\n",
    "        else:\n",
    "            alpha = float(alpha)\n",
    "        \n",
    "        sigma = float(sigma)\n",
    "        self._n_iterations = abs(int(n_iterations))\n",
    " \n",
    "        #Initialize graph\n",
    "        self._graph = tf.Graph()\n",
    " \n",
    "        #Populate graph\n",
    "        with self._graph.as_default():\n",
    "\n",
    "            self._weightage_vects = tf.Variable(tf.random.normal([m*n, dim]))\n",
    "            self._location_vects = tf.constant(np.array(list(self._neuron_locations(m, n))))\n",
    " \n",
    "            #Declaring Placeholders\n",
    "            #The training vector\n",
    "            self._vect_input = tf.placeholder(\"float\", [dim])\n",
    "            #Iteration number\n",
    "            self._iter_input = tf.placeholder(\"float\")\n",
    " \n",
    "            #Constructing Traning Algorithm\n",
    "\n",
    "            bmu_index = tf.argmin(tf.sqrt(tf.reduce_sum(\n",
    "                tf.pow(tf.subtract(self._weightage_vects, tf.stack(\n",
    "                    [self._vect_input for i in range(m*n)])), 2), 1)),\n",
    "                                  0)\n",
    "            \n",
    "            slice_input = tf.pad(tf.reshape(bmu_index, [1]),np.array([[0, 1]]))\n",
    "            \n",
    "            bmu_loc = tf.reshape(tf.slice(self._location_vects, slice_input,\n",
    "                                          tf.constant(np.array([1, 2]))),[2])\n",
    " \n",
    "            #Updating values of alpha and sigma\n",
    "            learning_rate_op = tf.subtract(1.0, tf.divide(self._iter_input,\n",
    "                                                  self._n_iterations))\n",
    "            _alpha_op = tf.multiply(alpha, learning_rate_op)\n",
    "            _sigma_op = tf.multiply(sigma, learning_rate_op)\n",
    " \n",
    "            #Genrate Learning rates based on location\n",
    "            bmu_distance_squares = tf.reduce_sum(tf.pow(tf.subtract(self._location_vects, tf.stack([bmu_loc for i in range(m*n)])), 2), 1)\n",
    "            \n",
    "            neighbourhood_func = tf.exp(tf.negative(tf.divide(tf.cast(bmu_distance_squares, \"float32\"), tf.pow(_sigma_op, 2))))\n",
    "            \n",
    "            learning_rate_op = tf.multiply(_alpha_op, neighbourhood_func)\n",
    " \n",
    "            #Update Neuron vectors\n",
    "            learning_rate_multiplier = tf.stack([tf.tile(tf.slice(learning_rate_op, np.array([i]), np.array([1])), [dim]) for i in range(m*n)])\n",
    "            \n",
    "            weightage_delta = tf.multiply(learning_rate_multiplier, tf.subtract(tf.stack([self._vect_input for i in range(m*n)]), self._weightage_vects))                                         \n",
    "            \n",
    "            new_weightages_op = tf.add(self._weightage_vects, weightage_delta)\n",
    "\n",
    "            self._training_op = tf.assign(self._weightage_vects, new_weightages_op)                                       \n",
    " \n",
    "            self._sess = tf.Session()\n",
    " \n",
    "            init_op = tf.global_variables_initializer()\n",
    "\n",
    "            self._sess.run(init_op)\n",
    " \n",
    "    def _neuron_locations(self, m, n):\n",
    "        # gives 2-d individual location of neurons in SOM\n",
    "\n",
    "        for i in range(m):\n",
    "            for j in range(n):\n",
    "                yield np.array([i, j])\n",
    " \n",
    "    def train(self, input_vects):\n",
    "        \n",
    "        # training SOM\n",
    " \n",
    "        for iter_no in range(self._n_iterations):\n",
    "            for input_vect in input_vects:\n",
    "                self._sess.run(self._training_op, feed_dict={self._vect_input: input_vect, self._iter_input: iter_no})\n",
    " \n",
    "        #storing a centroid grid \n",
    "        centroid_grid = [[] for i in range(self._m)]\n",
    "\n",
    "        self._weightages = list(self._sess.run(self._weightage_vects))\n",
    "        self._locations = list(self._sess.run(self._location_vects))\n",
    "        \n",
    "        for i, loc in enumerate(self._locations):\n",
    "            centroid_grid[loc[0]].append(self._weightages[i])\n",
    "        \n",
    "        self._centroid_grid = centroid_grid\n",
    " \n",
    "        self._trained = True\n",
    " \n",
    "    def get_centroids(self):\n",
    "        \n",
    "        # to get centroid lists\n",
    "\n",
    "        if not self._trained:\n",
    "            raise ValueError(\"SOM not trained yet\")\n",
    "        return self._centroid_grid\n",
    " \n",
    "    def map_vects(self, input_vects):\n",
    "        \n",
    "        # mapping each input vector to the relevant neuron in the SOM grid.\n",
    "\n",
    "        if not self._trained:\n",
    "            raise ValueError(\"SOM not trained yet\")\n",
    " \n",
    "        to_return = []\n",
    "\n",
    "        for vect in input_vects:\n",
    "            \n",
    "            min_index = min([i for i in range(len(self._weightages))], key=lambda x: np.linalg.norm(vect-self._weightages[x]))\n",
    "\n",
    "            to_return.append(self._locations[min_index])\n",
    " \n",
    "        return to_return\n"
   ]
  },
  {
   "cell_type": "code",
   "execution_count": 4,
   "metadata": {
    "id": "ma3qoiyJa-5i"
   },
   "outputs": [],
   "source": [
    " def download_image(url): \n",
    "    \n",
    "    #Method for downloading image, scaling the resolution and converting into numpy array\n",
    "    \n",
    "    try:\n",
    "        r = requests.get(url, stream=True)\n",
    "    except:\n",
    "        print('Error in loading image')\n",
    "        print(sys.exc_info()[0])\n",
    "        return None\n",
    "    \n",
    "    try:\n",
    "        i_temp = Image.open(io.BytesIO(r.content))\n",
    "        img = np.asarray(i_temp.convert('L'))\n",
    "\n",
    "    except:\n",
    "        print('Failed to parse image')\n",
    "        print(sys.exc_info()[0])\n",
    "        return None\n",
    "    \n",
    "    return img\n",
    "\n",
    "# Trains a SOM on the given data and returns it\n",
    "def som_plot(img, som_dims, dim_b, num_iter, alpha, sigma): \n",
    "\n",
    "    # Select small amount of random pixels from the image. \n",
    "    n_pixels = 500\n",
    "    \n",
    "    colors = shuffle(img.reshape((img.shape[0]*img.shape[1], dim_b)))[:n_pixels]\n",
    "    \n",
    "    # Train the SOM model with small amount of iterations. \n",
    "    som = SOM(som_dims[0], som_dims[1], dim_b, num_iter, alpha, sigma)\n",
    "    som.train(colors)\n",
    "    outp = img.reshape((img.shape[0]*img.shape[1], dim_b))\n",
    "\n",
    "    #Get output grid from the SOM. \n",
    "    image_grid = som.get_centroids()\n",
    "    mapping = som.map_vects(outp)\n",
    "    return(image_grid,mapping)"
   ]
  },
  {
   "cell_type": "code",
   "execution_count": 5,
   "metadata": {
    "id": "4c4rwwwKbBge"
   },
   "outputs": [],
   "source": [
    "def get_img_arr(dim_m=512, dim_n=512, dim_b=31, git_url='https://github.com/Zitishk/KSOM/blob/main/watercolors_ms_'):\n",
    "    \n",
    "    arrays1 = np.zeros((dim_m, dim_n, dim_b))\n",
    "    for i in range(dim_b):\n",
    "\n",
    "        mystr1 = git_url\n",
    "        mystr2 = '.png?raw=True'\n",
    "        \n",
    "        a = str(int((i+1)/10))\n",
    "        b = str((i+1)%10)\n",
    "        \n",
    "        mystr = mystr1 + a + b + mystr2\n",
    "        \n",
    "        img = download_image(mystr)\n",
    "        \n",
    "        for j1 in range(dim_m):\n",
    "            for j2 in range(dim_n):\n",
    "                arrays1[j1][j2][i]=img[j1][j2]\n",
    "    \n",
    "    return arrays1"
   ]
  },
  {
   "cell_type": "code",
   "execution_count": 12,
   "metadata": {
    "id": "f3nu21BNbE_2"
   },
   "outputs": [],
   "source": [
    "def show_heatmaps(som_op_x=10, som_op_y=10, dim_m=512, dim_n=512, dim_b=31, num_iter=50, alpha=0.4, sigma=5, git_url='https://github.com/Zitishk/KSOM/blob/main/watercolors_ms_'):\n",
    "\n",
    "    Som_size = [som_op_x,som_op_y]\n",
    "\n",
    "    arr = get_img_arr(dim_m, dim_n, dim_b, git_url)\n",
    "    \n",
    "    grd,mapping = som_plot(arr, Som_size, dim_b, num_iter, alpha, sigma)\n",
    "    \n",
    "    arr1=np.zeros((Som_size[0]*Som_size[1],31))\n",
    "    for i in range(31):\n",
    "        for j in range(Som_size[0]):\n",
    "            for k in range(Som_size[1]):\n",
    "                arr1[Som_size[0]*j+k][i]=grd[j][k][i]\n",
    "    kmeans = KMeans(n_clusters=10, random_state=0).fit(arr1)\n",
    "    labels = kmeans.predict(arr1)\n",
    "    clustered_som = np.reshape(labels,(Som_size[0],Som_size[1]))\n",
    "    final = np.zeros(len(mapping))\n",
    "    for i in range(len(mapping)):\n",
    "        final[i] = clustered_som[mapping[i][0]][mapping[i][1]]\n",
    "    output = np.reshape(final,(dim_m,dim_n))\n",
    "    img=plt.imshow(output)\n",
    "    plt.show()"
   ]
  },
  {
   "cell_type": "code",
   "execution_count": 13,
   "metadata": {
    "id": "_M2cOAXIbHgT"
   },
   "outputs": [],
   "source": [
    "def run_implementation():\n",
    "    ins = int(input())\n",
    "    if(ins==0):\n",
    "        show_heatmaps()\n",
    "    else:\n",
    "        ip_n = int(input(\"Input Dimension n : \"))\n",
    "        ip_m = int(input(\"Input Dimension m : \"))\n",
    "        op_m = int(input(\"Output Dimension m : \"))\n",
    "        op_n = int(input(\"Output Dimension n : \"))\n",
    "        bands = int(input(\"Number of bands: \"))\n",
    "        iters = int(input(\"Number of iterations : \"))\n",
    "        lr = float(input(\"Learning Rate (initial) : \"))\n",
    "        init_sigma = float(input(\"Initial sigma value for neighbourhood function : \"))\n",
    "        git_url = input(\"Enter starting url of git for image input : \")\n",
    "\n",
    "        show_heatmaps(op_m, op_n, ip_m, ip_n, bands, iters, lr, init_sigma, git_url)\n"
   ]
  },
  {
   "cell_type": "code",
   "execution_count": 14,
   "metadata": {
    "colab": {
     "base_uri": "https://localhost:8080/",
     "height": 284
    },
    "id": "ceMfAOMRlLQ4",
    "outputId": "2a2e0acc-1966-4c04-9f98-a0dcf8f6f764"
   },
   "outputs": [
    {
     "name": "stdout",
     "output_type": "stream",
     "text": [
      "0\n"
     ]
    },
    {
     "data": {
      "image/png": "[encoded data removed]",
      "text/plain": [
       "<Figure size 432x288 with 1 Axes>"
      ]
     },
     "metadata": {
      "needs_background": "light",
      "tags": []
     },
     "output_type": "display_data"
    }
   ],
   "source": [
    "run_implementation()"
   ]
  },
  {
   "cell_type": "code",
   "execution_count": null,
   "metadata": {
    "id": "y7xTcDRflgWV"
   },
   "outputs": [],
   "source": [
    "run_implementation()"
   ]
  },
  {
   "cell_type": "code",
   "execution_count": null,
   "metadata": {
    "id": "-ixJ3ighzZe_"
   },
   "outputs": [],
   "source": []
  }
 ],
 "metadata": {
  "colab": {
   "collapsed_sections": [],
   "name": "KSOM Implementation.ipynb",
   "provenance": []
  },
  "kernelspec": {
   "display_name": "Python 3",
   "language": "python",
   "name": "python3"
  },
  "language_info": {
   "codemirror_mode": {
    "name": "ipython",
    "version": 3
   },
   "file_extension": ".py",
   "mimetype": "text/x-python",
   "name": "python",
   "nbconvert_exporter": "python",
   "pygments_lexer": "ipython3",
   "version": "3.7.3"
  }
 },
 "nbformat": 4,
 "nbformat_minor": 1
}
